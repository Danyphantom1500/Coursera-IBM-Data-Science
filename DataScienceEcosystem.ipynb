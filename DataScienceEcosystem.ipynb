{
 "cells": [
  {
   "cell_type": "markdown",
   "id": "57b24cb0-cf21-48d2-82ed-fcd7553bfae4",
   "metadata": {},
   "source": [
    "# Data Science Tools and Ecosystem"
   ]
  },
  {
   "cell_type": "markdown",
   "id": "497186f6-6886-4e5e-a8e9-60b3af6776d3",
   "metadata": {},
   "source": [
    "## Introduction\n",
    "### In this notebook, Data Science Tools and Ecosystem are summarized."
   ]
  },
  {
   "cell_type": "markdown",
   "id": "53a1a458-79f2-44f7-9417-a511978dd24f",
   "metadata": {},
   "source": [
    "Objectives:\n",
    "* R capabilities and their uses in Data Science.\n",
    "* The RStudio interface for running R code.\n",
    "* Plotted with the built-in plot function in R."
   ]
  },
  {
   "cell_type": "markdown",
   "id": "24a8903d-5219-4cda-a45a-51ec4c0fc997",
   "metadata": {},
   "source": [
    "**Some of the popular languages that Data Scientists use are:**\n",
    "\n",
    "1. **Python:** Python is arguably the most popular language in data science due to its extensive libraries like Pandas, NumPy, Scikit-learn, and TensorFlow. Its versatility and ease of use make it a favorite among data scientists for various tasks, including data manipulation, analysis, machine learning, and deep learning.\n",
    "\n",
    "2. **R:** R is specifically designed for statistical computing and graphics. It boasts a rich ecosystem of packages for data analysis, visualization, and statistical modeling, making it a powerful tool for research and development in many fields.\n",
    "\n",
    "3. **SQL:** While not strictly a programming language in the traditional sense, SQL (Structured Query Language) is essential for working with relational databases. Data scientists often interact with databases to extract, clean, and transform data, and SQL is the standard language for querying and manipulating data within these systems. "
   ]
  },
  {
   "cell_type": "markdown",
   "id": "60417679-608f-4328-a336-148626e53070",
   "metadata": {},
   "source": [
    "**Some of the commonly used libraries used by Data Scientists include:**\n",
    "1. **ggplot**\n",
    "2. **tydyverse**\n",
    "3. **lubridate**"
   ]
  },
  {
   "cell_type": "markdown",
   "id": "4f5624c8-ac8f-4f88-938f-d9f88504ce4a",
   "metadata": {},
   "source": [
    "| Data Science Tools      |\n",
    "|--------------------------|\n",
    "| Jupyter Notebook         |\n",
    "| RStudio                  |\n",
    "| Apache Zeppelin          |\n"
   ]
  },
  {
   "cell_type": "markdown",
   "id": "8c40b50f-d7f0-44b0-b3e4-4ea167e9a327",
   "metadata": {},
   "source": [
    "### Below are a few examples of evaluating arithmetic expressions in Python"
   ]
  },
  {
   "cell_type": "markdown",
   "id": "4b19c67b-884e-4d98-a16a-262ff7b16a94",
   "metadata": {},
   "source": [
    "This a simple arithmetic expression to mutiply then add integers"
   ]
  },
  {
   "cell_type": "code",
   "execution_count": 11,
   "id": "6326a0a3-544b-4051-ad95-7ec672d5309a",
   "metadata": {},
   "outputs": [
    {
     "data": {
      "text/plain": [
       "17"
      ]
     },
     "execution_count": 11,
     "metadata": {},
     "output_type": "execute_result"
    }
   ],
   "source": [
    "(3*4)+5"
   ]
  },
  {
   "cell_type": "markdown",
   "id": "0883627e-1e81-4ad0-93ff-40a36c25c7c4",
   "metadata": {},
   "source": [
    "This will convert 200 minutes to hours by dividing by 60"
   ]
  },
  {
   "cell_type": "code",
   "execution_count": 12,
   "id": "71fc8b6b-1f0f-4ee8-b01f-a5dfae2f5eab",
   "metadata": {},
   "outputs": [
    {
     "data": {
      "text/plain": [
       "3.3333333333333335"
      ]
     },
     "execution_count": 12,
     "metadata": {},
     "output_type": "execute_result"
    }
   ],
   "source": [
    "hours = 200 / 60\n",
    "hours"
   ]
  },
  {
   "cell_type": "code",
   "execution_count": null,
   "id": "47d4fc68-4f9d-4101-b3d6-37522eb0366b",
   "metadata": {},
   "outputs": [],
   "source": []
  }
 ],
 "metadata": {
  "kernelspec": {
   "display_name": "Python 3 (ipykernel)",
   "language": "python",
   "name": "python3"
  },
  "language_info": {
   "codemirror_mode": {
    "name": "ipython",
    "version": 3
   },
   "file_extension": ".py",
   "mimetype": "text/x-python",
   "name": "python",
   "nbconvert_exporter": "python",
   "pygments_lexer": "ipython3",
   "version": "3.11.9"
  }
 },
 "nbformat": 4,
 "nbformat_minor": 5
}
